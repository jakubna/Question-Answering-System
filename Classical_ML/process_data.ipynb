{
 "cells": [
  {
   "cell_type": "code",
   "execution_count": 1,
   "metadata": {},
   "outputs": [],
   "source": [
    "import pandas as pd\n",
    "import pickle"
   ]
  },
  {
   "cell_type": "code",
   "execution_count": null,
   "metadata": {},
   "outputs": [],
   "source": [
    "data = pd.read_csv(\"data/train.csv\")"
   ]
  },
  {
   "cell_type": "markdown",
   "metadata": {},
   "source": [
    "## Open InferSent embeddings and create dictionaries"
   ]
  },
  {
   "cell_type": "code",
   "execution_count": 3,
   "metadata": {},
   "outputs": [],
   "source": [
    "pickle_in = open(\"data/emb_s_25k.pickle\", \"rb\")\n",
    "sen1 = pickle.load(pickle_in)\n",
    "pickle_in.close()"
   ]
  },
  {
   "cell_type": "code",
   "execution_count": 4,
   "metadata": {},
   "outputs": [],
   "source": [
    "pickle_in = open(\"data/emb_s_50k.pickle\", \"rb\")\n",
    "sen2 = pickle.load(pickle_in)\n",
    "pickle_in.close()"
   ]
  },
  {
   "cell_type": "code",
   "execution_count": 5,
   "metadata": {},
   "outputs": [],
   "source": [
    "pickle_in = open(\"data/emb_s_75k.pickle\", \"rb\")\n",
    "sen3 = pickle.load(pickle_in)\n",
    "pickle_in.close()"
   ]
  },
  {
   "cell_type": "code",
   "execution_count": 6,
   "metadata": {},
   "outputs": [],
   "source": [
    "pickle_in = open(\"data/emb_s_rest.pickle\", \"rb\")\n",
    "sen4 = pickle.load(pickle_in)\n",
    "pickle_in.close()"
   ]
  },
  {
   "cell_type": "code",
   "execution_count": 7,
   "metadata": {},
   "outputs": [],
   "source": [
    "dict_sen = dict(sen1)\n",
    "del sen1"
   ]
  },
  {
   "cell_type": "code",
   "execution_count": 8,
   "metadata": {},
   "outputs": [],
   "source": [
    "dict_sen.update(sen2)\n",
    "del sen2"
   ]
  },
  {
   "cell_type": "code",
   "execution_count": 9,
   "metadata": {},
   "outputs": [],
   "source": [
    "dict_sen.update(sen3)\n",
    "del sen3"
   ]
  },
  {
   "cell_type": "code",
   "execution_count": 10,
   "metadata": {},
   "outputs": [],
   "source": [
    "dict_sen.update(sen4)\n",
    "del sen4"
   ]
  },
  {
   "cell_type": "code",
   "execution_count": 11,
   "metadata": {},
   "outputs": [],
   "source": [
    "pickle_in = open(\"data/emb_q_25k.pickle\", \"rb\")\n",
    "que1 = pickle.load(pickle_in)\n",
    "pickle_in.close()"
   ]
  },
  {
   "cell_type": "code",
   "execution_count": 12,
   "metadata": {},
   "outputs": [],
   "source": [
    "pickle_in = open(\"data/emb_q_50k.pickle\", \"rb\")\n",
    "que2 = pickle.load(pickle_in)\n",
    "pickle_in.close()"
   ]
  },
  {
   "cell_type": "code",
   "execution_count": 13,
   "metadata": {},
   "outputs": [],
   "source": [
    "pickle_in = open(\"data/emb_q_75k.pickle\", \"rb\")\n",
    "que3 = pickle.load(pickle_in)\n",
    "pickle_in.close()"
   ]
  },
  {
   "cell_type": "code",
   "execution_count": 14,
   "metadata": {},
   "outputs": [],
   "source": [
    "pickle_in = open(\"data/emb_q_rest.pickle\", \"rb\")\n",
    "que4 = pickle.load(pickle_in)\n",
    "pickle_in.close()"
   ]
  },
  {
   "cell_type": "code",
   "execution_count": 15,
   "metadata": {},
   "outputs": [],
   "source": [
    "dict_que = dict(que1)\n",
    "del que1"
   ]
  },
  {
   "cell_type": "code",
   "execution_count": 16,
   "metadata": {},
   "outputs": [],
   "source": [
    "dict_que.update(que2)\n",
    "del que2"
   ]
  },
  {
   "cell_type": "code",
   "execution_count": 17,
   "metadata": {},
   "outputs": [],
   "source": [
    "dict_que.update(que3)\n",
    "del que3"
   ]
  },
  {
   "cell_type": "code",
   "execution_count": 18,
   "metadata": {},
   "outputs": [],
   "source": [
    "dict_que.update(que4)\n",
    "del que4"
   ]
  },
  {
   "cell_type": "markdown",
   "metadata": {},
   "source": [
    "## Add splitted contexts, answers and embeddings to the Data Frame"
   ]
  },
  {
   "cell_type": "code",
   "execution_count": 19,
   "metadata": {},
   "outputs": [
    {
     "name": "stderr",
     "output_type": "stream",
     "text": [
      "[nltk_data] Downloading package punkt to\n",
      "[nltk_data]     C:\\Users\\czajk\\AppData\\Roaming\\nltk_data...\n",
      "[nltk_data]   Package punkt is already up-to-date!\n"
     ]
    },
    {
     "data": {
      "text/plain": [
       "True"
      ]
     },
     "execution_count": 19,
     "metadata": {},
     "output_type": "execute_result"
    }
   ],
   "source": [
    "from textblob import TextBlob\n",
    "import nltk\n",
    "nltk.download('punkt')"
   ]
  },
  {
   "cell_type": "code",
   "execution_count": 20,
   "metadata": {},
   "outputs": [],
   "source": [
    "def split_context(context):\n",
    "    blob = TextBlob(context)\n",
    "    sentences = [item.raw for item in blob.sentences]\n",
    "    return sentences"
   ]
  },
  {
   "cell_type": "code",
   "execution_count": 21,
   "metadata": {},
   "outputs": [],
   "source": [
    "def find_answer(qa):\n",
    "    for i in range(len(qa[\"sentences\"])):\n",
    "        if not isinstance(qa[\"text\"], str):\n",
    "            qa[\"text\"] = str(qa[\"text\"])\n",
    "        if qa[\"text\"] in qa[\"sentences\"][i]:\n",
    "            return i\n",
    "    return -1"
   ]
  },
  {
   "cell_type": "code",
   "execution_count": 22,
   "metadata": {},
   "outputs": [],
   "source": [
    "data[\"sentences\"] = data[\"context\"].apply(split_context)\n",
    "data[\"ans_sentence\"] = data.apply(find_answer, axis = 1)"
   ]
  },
  {
   "cell_type": "code",
   "execution_count": 23,
   "metadata": {},
   "outputs": [],
   "source": [
    "def get_que_emb(question):\n",
    "    if question in dict_que:\n",
    "        return dict_que[question]\n",
    "    return np.zeros(4096)"
   ]
  },
  {
   "cell_type": "code",
   "execution_count": 24,
   "metadata": {},
   "outputs": [],
   "source": [
    "import numpy as np\n",
    "\n",
    "def get_sent_emb(sentences):\n",
    "    res = [dict_sen[item][0] if item in dict_sen else np.zeros(4096) for item in sentences]\n",
    "    return res"
   ]
  },
  {
   "cell_type": "code",
   "execution_count": 25,
   "metadata": {},
   "outputs": [],
   "source": [
    "data[\"que_emb\"] = data[\"question\"].apply(get_que_emb)\n",
    "data[\"sent_emb\"] = data[\"sentences\"].apply(get_sent_emb)"
   ]
  },
  {
   "cell_type": "code",
   "execution_count": 26,
   "metadata": {},
   "outputs": [],
   "source": [
    "del dict_que\n",
    "del dict_sen"
   ]
  },
  {
   "cell_type": "code",
   "execution_count": 27,
   "metadata": {},
   "outputs": [],
   "source": [
    "del data[\"context\"]"
   ]
  },
  {
   "cell_type": "code",
   "execution_count": 28,
   "metadata": {},
   "outputs": [
    {
     "data": {
      "text/html": [
       "<div>\n",
       "<style scoped>\n",
       "    .dataframe tbody tr th:only-of-type {\n",
       "        vertical-align: middle;\n",
       "    }\n",
       "\n",
       "    .dataframe tbody tr th {\n",
       "        vertical-align: top;\n",
       "    }\n",
       "\n",
       "    .dataframe thead th {\n",
       "        text-align: right;\n",
       "    }\n",
       "</style>\n",
       "<table border=\"1\" class=\"dataframe\">\n",
       "  <thead>\n",
       "    <tr style=\"text-align: right;\">\n",
       "      <th></th>\n",
       "      <th>question</th>\n",
       "      <th>answer_start</th>\n",
       "      <th>text</th>\n",
       "      <th>sentences</th>\n",
       "      <th>ans_sentence</th>\n",
       "      <th>que_emb</th>\n",
       "      <th>sent_emb</th>\n",
       "    </tr>\n",
       "  </thead>\n",
       "  <tbody>\n",
       "    <tr>\n",
       "      <th>0</th>\n",
       "      <td>When did Beyonce start becoming popular?</td>\n",
       "      <td>269</td>\n",
       "      <td>in the late 1990s</td>\n",
       "      <td>[Beyoncé Giselle Knowles-Carter (/biːˈjɒnseɪ/ ...</td>\n",
       "      <td>1</td>\n",
       "      <td>[[0.11226777, 0.054507274, 0.107090585, 0.0954...</td>\n",
       "      <td>[[0.06352395, 0.17397285, 0.10705582, 0.073170...</td>\n",
       "    </tr>\n",
       "    <tr>\n",
       "      <th>1</th>\n",
       "      <td>What areas did Beyonce compete in when she was...</td>\n",
       "      <td>207</td>\n",
       "      <td>singing and dancing</td>\n",
       "      <td>[Beyoncé Giselle Knowles-Carter (/biːˈjɒnseɪ/ ...</td>\n",
       "      <td>1</td>\n",
       "      <td>[[0.12392643, 0.08186243, 0.05142356, -0.01727...</td>\n",
       "      <td>[[0.06352395, 0.17397285, 0.10705582, 0.073170...</td>\n",
       "    </tr>\n",
       "    <tr>\n",
       "      <th>2</th>\n",
       "      <td>When did Beyonce leave Destiny's Child and bec...</td>\n",
       "      <td>526</td>\n",
       "      <td>2003</td>\n",
       "      <td>[Beyoncé Giselle Knowles-Carter (/biːˈjɒnseɪ/ ...</td>\n",
       "      <td>3</td>\n",
       "      <td>[[0.04034418, 0.12923701, 0.03330859, 0.022752...</td>\n",
       "      <td>[[0.06352395, 0.17397285, 0.10705582, 0.073170...</td>\n",
       "    </tr>\n",
       "    <tr>\n",
       "      <th>3</th>\n",
       "      <td>In what city and state did Beyonce  grow up?</td>\n",
       "      <td>166</td>\n",
       "      <td>Houston, Texas</td>\n",
       "      <td>[Beyoncé Giselle Knowles-Carter (/biːˈjɒnseɪ/ ...</td>\n",
       "      <td>1</td>\n",
       "      <td>[[0.082195975, 0.0778922, 0.016079443, 0.04441...</td>\n",
       "      <td>[[0.06352395, 0.17397285, 0.10705582, 0.073170...</td>\n",
       "    </tr>\n",
       "    <tr>\n",
       "      <th>4</th>\n",
       "      <td>In which decade did Beyonce become famous?</td>\n",
       "      <td>276</td>\n",
       "      <td>late 1990s</td>\n",
       "      <td>[Beyoncé Giselle Knowles-Carter (/biːˈjɒnseɪ/ ...</td>\n",
       "      <td>1</td>\n",
       "      <td>[[0.10957716, 0.020397408, 0.061727244, 0.0263...</td>\n",
       "      <td>[[0.06352395, 0.17397285, 0.10705582, 0.073170...</td>\n",
       "    </tr>\n",
       "    <tr>\n",
       "      <th>5</th>\n",
       "      <td>In what R&amp;B group was she the lead singer?</td>\n",
       "      <td>320</td>\n",
       "      <td>Destiny's Child</td>\n",
       "      <td>[Beyoncé Giselle Knowles-Carter (/biːˈjɒnseɪ/ ...</td>\n",
       "      <td>1</td>\n",
       "      <td>[[0.04265439, 0.11198192, 0.10183123, -0.00464...</td>\n",
       "      <td>[[0.06352395, 0.17397285, 0.10705582, 0.073170...</td>\n",
       "    </tr>\n",
       "    <tr>\n",
       "      <th>6</th>\n",
       "      <td>What album made her a worldwide known artist?</td>\n",
       "      <td>505</td>\n",
       "      <td>Dangerously in Love</td>\n",
       "      <td>[Beyoncé Giselle Knowles-Carter (/biːˈjɒnseɪ/ ...</td>\n",
       "      <td>3</td>\n",
       "      <td>[[0.104184076, 0.06301832, 0.12119591, -0.0010...</td>\n",
       "      <td>[[0.06352395, 0.17397285, 0.10705582, 0.073170...</td>\n",
       "    </tr>\n",
       "    <tr>\n",
       "      <th>7</th>\n",
       "      <td>Who managed the Destiny's Child group?</td>\n",
       "      <td>360</td>\n",
       "      <td>Mathew Knowles</td>\n",
       "      <td>[Beyoncé Giselle Knowles-Carter (/biːˈjɒnseɪ/ ...</td>\n",
       "      <td>2</td>\n",
       "      <td>[[0.06858502, 0.11684115, -0.030445112, -0.027...</td>\n",
       "      <td>[[0.06352395, 0.17397285, 0.10705582, 0.073170...</td>\n",
       "    </tr>\n",
       "    <tr>\n",
       "      <th>8</th>\n",
       "      <td>When did Beyoncé rise to fame?</td>\n",
       "      <td>276</td>\n",
       "      <td>late 1990s</td>\n",
       "      <td>[Beyoncé Giselle Knowles-Carter (/biːˈjɒnseɪ/ ...</td>\n",
       "      <td>1</td>\n",
       "      <td>[[0.09504555, 0.01654029, 0.10866133, 0.017700...</td>\n",
       "      <td>[[0.06352395, 0.17397285, 0.10705582, 0.073170...</td>\n",
       "    </tr>\n",
       "    <tr>\n",
       "      <th>9</th>\n",
       "      <td>What role did Beyoncé have in Destiny's Child?</td>\n",
       "      <td>290</td>\n",
       "      <td>lead singer</td>\n",
       "      <td>[Beyoncé Giselle Knowles-Carter (/biːˈjɒnseɪ/ ...</td>\n",
       "      <td>1</td>\n",
       "      <td>[[0.084585585, 0.12407758, 0.029805489, -0.005...</td>\n",
       "      <td>[[0.06352395, 0.17397285, 0.10705582, 0.073170...</td>\n",
       "    </tr>\n",
       "    <tr>\n",
       "      <th>10</th>\n",
       "      <td>What was the first album Beyoncé released as a...</td>\n",
       "      <td>505</td>\n",
       "      <td>Dangerously in Love</td>\n",
       "      <td>[Beyoncé Giselle Knowles-Carter (/biːˈjɒnseɪ/ ...</td>\n",
       "      <td>3</td>\n",
       "      <td>[[0.035827417, 0.093284875, 0.091802344, 0.049...</td>\n",
       "      <td>[[0.06352395, 0.17397285, 0.10705582, 0.073170...</td>\n",
       "    </tr>\n",
       "    <tr>\n",
       "      <th>11</th>\n",
       "      <td>When did Beyoncé release Dangerously in Love?</td>\n",
       "      <td>526</td>\n",
       "      <td>2003</td>\n",
       "      <td>[Beyoncé Giselle Knowles-Carter (/biːˈjɒnseɪ/ ...</td>\n",
       "      <td>3</td>\n",
       "      <td>[[0.07472927, 0.07366575, 0.08042466, 0.014857...</td>\n",
       "      <td>[[0.06352395, 0.17397285, 0.10705582, 0.073170...</td>\n",
       "    </tr>\n",
       "    <tr>\n",
       "      <th>12</th>\n",
       "      <td>How many Grammy awards did Beyoncé win for her...</td>\n",
       "      <td>590</td>\n",
       "      <td>five</td>\n",
       "      <td>[Beyoncé Giselle Knowles-Carter (/biːˈjɒnseɪ/ ...</td>\n",
       "      <td>3</td>\n",
       "      <td>[[0.07164696, 0.077352755, 0.050020937, 0.1370...</td>\n",
       "      <td>[[0.06352395, 0.17397285, 0.10705582, 0.073170...</td>\n",
       "    </tr>\n",
       "    <tr>\n",
       "      <th>13</th>\n",
       "      <td>What was Beyoncé's role in Destiny's Child?</td>\n",
       "      <td>290</td>\n",
       "      <td>lead singer</td>\n",
       "      <td>[Beyoncé Giselle Knowles-Carter (/biːˈjɒnseɪ/ ...</td>\n",
       "      <td>1</td>\n",
       "      <td>[[0.096346386, 0.11443435, 0.03410971, 0.01198...</td>\n",
       "      <td>[[0.06352395, 0.17397285, 0.10705582, 0.073170...</td>\n",
       "    </tr>\n",
       "    <tr>\n",
       "      <th>14</th>\n",
       "      <td>What was the name of Beyoncé's first solo album?</td>\n",
       "      <td>505</td>\n",
       "      <td>Dangerously in Love</td>\n",
       "      <td>[Beyoncé Giselle Knowles-Carter (/biːˈjɒnseɪ/ ...</td>\n",
       "      <td>3</td>\n",
       "      <td>[[0.036375567, 0.08851348, 0.0448916, 0.078216...</td>\n",
       "      <td>[[0.06352395, 0.17397285, 0.10705582, 0.073170...</td>\n",
       "    </tr>\n",
       "  </tbody>\n",
       "</table>\n",
       "</div>"
      ],
      "text/plain": [
       "                                             question  answer_start  \\\n",
       "0            When did Beyonce start becoming popular?           269   \n",
       "1   What areas did Beyonce compete in when she was...           207   \n",
       "2   When did Beyonce leave Destiny's Child and bec...           526   \n",
       "3       In what city and state did Beyonce  grow up?            166   \n",
       "4          In which decade did Beyonce become famous?           276   \n",
       "5          In what R&B group was she the lead singer?           320   \n",
       "6       What album made her a worldwide known artist?           505   \n",
       "7              Who managed the Destiny's Child group?           360   \n",
       "8                      When did Beyoncé rise to fame?           276   \n",
       "9      What role did Beyoncé have in Destiny's Child?           290   \n",
       "10  What was the first album Beyoncé released as a...           505   \n",
       "11      When did Beyoncé release Dangerously in Love?           526   \n",
       "12  How many Grammy awards did Beyoncé win for her...           590   \n",
       "13        What was Beyoncé's role in Destiny's Child?           290   \n",
       "14   What was the name of Beyoncé's first solo album?           505   \n",
       "\n",
       "                   text                                          sentences  \\\n",
       "0     in the late 1990s  [Beyoncé Giselle Knowles-Carter (/biːˈjɒnseɪ/ ...   \n",
       "1   singing and dancing  [Beyoncé Giselle Knowles-Carter (/biːˈjɒnseɪ/ ...   \n",
       "2                  2003  [Beyoncé Giselle Knowles-Carter (/biːˈjɒnseɪ/ ...   \n",
       "3        Houston, Texas  [Beyoncé Giselle Knowles-Carter (/biːˈjɒnseɪ/ ...   \n",
       "4            late 1990s  [Beyoncé Giselle Knowles-Carter (/biːˈjɒnseɪ/ ...   \n",
       "5       Destiny's Child  [Beyoncé Giselle Knowles-Carter (/biːˈjɒnseɪ/ ...   \n",
       "6   Dangerously in Love  [Beyoncé Giselle Knowles-Carter (/biːˈjɒnseɪ/ ...   \n",
       "7        Mathew Knowles  [Beyoncé Giselle Knowles-Carter (/biːˈjɒnseɪ/ ...   \n",
       "8            late 1990s  [Beyoncé Giselle Knowles-Carter (/biːˈjɒnseɪ/ ...   \n",
       "9           lead singer  [Beyoncé Giselle Knowles-Carter (/biːˈjɒnseɪ/ ...   \n",
       "10  Dangerously in Love  [Beyoncé Giselle Knowles-Carter (/biːˈjɒnseɪ/ ...   \n",
       "11                 2003  [Beyoncé Giselle Knowles-Carter (/biːˈjɒnseɪ/ ...   \n",
       "12                 five  [Beyoncé Giselle Knowles-Carter (/biːˈjɒnseɪ/ ...   \n",
       "13          lead singer  [Beyoncé Giselle Knowles-Carter (/biːˈjɒnseɪ/ ...   \n",
       "14  Dangerously in Love  [Beyoncé Giselle Knowles-Carter (/biːˈjɒnseɪ/ ...   \n",
       "\n",
       "    ans_sentence                                            que_emb  \\\n",
       "0              1  [[0.11226777, 0.054507274, 0.107090585, 0.0954...   \n",
       "1              1  [[0.12392643, 0.08186243, 0.05142356, -0.01727...   \n",
       "2              3  [[0.04034418, 0.12923701, 0.03330859, 0.022752...   \n",
       "3              1  [[0.082195975, 0.0778922, 0.016079443, 0.04441...   \n",
       "4              1  [[0.10957716, 0.020397408, 0.061727244, 0.0263...   \n",
       "5              1  [[0.04265439, 0.11198192, 0.10183123, -0.00464...   \n",
       "6              3  [[0.104184076, 0.06301832, 0.12119591, -0.0010...   \n",
       "7              2  [[0.06858502, 0.11684115, -0.030445112, -0.027...   \n",
       "8              1  [[0.09504555, 0.01654029, 0.10866133, 0.017700...   \n",
       "9              1  [[0.084585585, 0.12407758, 0.029805489, -0.005...   \n",
       "10             3  [[0.035827417, 0.093284875, 0.091802344, 0.049...   \n",
       "11             3  [[0.07472927, 0.07366575, 0.08042466, 0.014857...   \n",
       "12             3  [[0.07164696, 0.077352755, 0.050020937, 0.1370...   \n",
       "13             1  [[0.096346386, 0.11443435, 0.03410971, 0.01198...   \n",
       "14             3  [[0.036375567, 0.08851348, 0.0448916, 0.078216...   \n",
       "\n",
       "                                             sent_emb  \n",
       "0   [[0.06352395, 0.17397285, 0.10705582, 0.073170...  \n",
       "1   [[0.06352395, 0.17397285, 0.10705582, 0.073170...  \n",
       "2   [[0.06352395, 0.17397285, 0.10705582, 0.073170...  \n",
       "3   [[0.06352395, 0.17397285, 0.10705582, 0.073170...  \n",
       "4   [[0.06352395, 0.17397285, 0.10705582, 0.073170...  \n",
       "5   [[0.06352395, 0.17397285, 0.10705582, 0.073170...  \n",
       "6   [[0.06352395, 0.17397285, 0.10705582, 0.073170...  \n",
       "7   [[0.06352395, 0.17397285, 0.10705582, 0.073170...  \n",
       "8   [[0.06352395, 0.17397285, 0.10705582, 0.073170...  \n",
       "9   [[0.06352395, 0.17397285, 0.10705582, 0.073170...  \n",
       "10  [[0.06352395, 0.17397285, 0.10705582, 0.073170...  \n",
       "11  [[0.06352395, 0.17397285, 0.10705582, 0.073170...  \n",
       "12  [[0.06352395, 0.17397285, 0.10705582, 0.073170...  \n",
       "13  [[0.06352395, 0.17397285, 0.10705582, 0.073170...  \n",
       "14  [[0.06352395, 0.17397285, 0.10705582, 0.073170...  "
      ]
     },
     "execution_count": 28,
     "metadata": {},
     "output_type": "execute_result"
    }
   ],
   "source": [
    "data.head(15)"
   ]
  },
  {
   "cell_type": "markdown",
   "metadata": {},
   "source": [
    "## Count Euclidean and cosine distances between the question and each answer"
   ]
  },
  {
   "cell_type": "code",
   "execution_count": 29,
   "metadata": {},
   "outputs": [],
   "source": [
    "from scipy import spatial\n",
    "\n",
    "def eucl_dis(record):\n",
    "    res = [0] * len(record[\"sent_emb\"])\n",
    "    for i in range(len(record[\"sent_emb\"])):\n",
    "        res[i] = spatial.distance.euclidean(record[\"sent_emb\"][i],record[\"que_emb\"][0])\n",
    "    return res"
   ]
  },
  {
   "cell_type": "code",
   "execution_count": 30,
   "metadata": {},
   "outputs": [],
   "source": [
    "def cosine_dis(record):\n",
    "    res = [0]*len(record[\"sent_emb\"])\n",
    "    for i in range(len(record[\"sent_emb\"])):\n",
    "        res[i] = spatial.distance.cosine(record[\"sent_emb\"][i],record[\"que_emb\"][0])\n",
    "    return res"
   ]
  },
  {
   "cell_type": "code",
   "execution_count": 34,
   "metadata": {},
   "outputs": [],
   "source": [
    "data[\"eucl_dis\"] = data.apply(eucl_dis, axis = 1)"
   ]
  },
  {
   "cell_type": "code",
   "execution_count": 35,
   "metadata": {},
   "outputs": [],
   "source": [
    "data[\"cosine_dis\"] = data.apply(cosine_dis, axis = 1)"
   ]
  },
  {
   "cell_type": "code",
   "execution_count": 36,
   "metadata": {},
   "outputs": [
    {
     "data": {
      "text/html": [
       "<div>\n",
       "<style scoped>\n",
       "    .dataframe tbody tr th:only-of-type {\n",
       "        vertical-align: middle;\n",
       "    }\n",
       "\n",
       "    .dataframe tbody tr th {\n",
       "        vertical-align: top;\n",
       "    }\n",
       "\n",
       "    .dataframe thead th {\n",
       "        text-align: right;\n",
       "    }\n",
       "</style>\n",
       "<table border=\"1\" class=\"dataframe\">\n",
       "  <thead>\n",
       "    <tr style=\"text-align: right;\">\n",
       "      <th></th>\n",
       "      <th>question</th>\n",
       "      <th>answer_start</th>\n",
       "      <th>text</th>\n",
       "      <th>sentences</th>\n",
       "      <th>ans_sentence</th>\n",
       "      <th>que_emb</th>\n",
       "      <th>sent_emb</th>\n",
       "      <th>eucl_dis</th>\n",
       "      <th>cosine_dis</th>\n",
       "    </tr>\n",
       "  </thead>\n",
       "  <tbody>\n",
       "    <tr>\n",
       "      <th>0</th>\n",
       "      <td>When did Beyonce start becoming popular?</td>\n",
       "      <td>269</td>\n",
       "      <td>in the late 1990s</td>\n",
       "      <td>[Beyoncé Giselle Knowles-Carter (/biːˈjɒnseɪ/ ...</td>\n",
       "      <td>1</td>\n",
       "      <td>[[0.11226777, 0.054507274, 0.107090585, 0.0954...</td>\n",
       "      <td>[[0.06352395, 0.17397285, 0.10705582, 0.073170...</td>\n",
       "      <td>[4.877357482910156, 4.7811198234558105, 3.9897...</td>\n",
       "      <td>[0.46874332427978516, 0.44890081882476807, 0.4...</td>\n",
       "    </tr>\n",
       "    <tr>\n",
       "      <th>1</th>\n",
       "      <td>What areas did Beyonce compete in when she was...</td>\n",
       "      <td>207</td>\n",
       "      <td>singing and dancing</td>\n",
       "      <td>[Beyoncé Giselle Knowles-Carter (/biːˈjɒnseɪ/ ...</td>\n",
       "      <td>1</td>\n",
       "      <td>[[0.12392643, 0.08186243, 0.05142356, -0.01727...</td>\n",
       "      <td>[[0.06352395, 0.17397285, 0.10705582, 0.073170...</td>\n",
       "      <td>[4.541980266571045, 4.213067531585693, 3.64840...</td>\n",
       "      <td>[0.38697999715805054, 0.3235163688659668, 0.36...</td>\n",
       "    </tr>\n",
       "    <tr>\n",
       "      <th>2</th>\n",
       "      <td>When did Beyonce leave Destiny's Child and bec...</td>\n",
       "      <td>526</td>\n",
       "      <td>2003</td>\n",
       "      <td>[Beyoncé Giselle Knowles-Carter (/biːˈjɒnseɪ/ ...</td>\n",
       "      <td>3</td>\n",
       "      <td>[[0.04034418, 0.12923701, 0.03330859, 0.022752...</td>\n",
       "      <td>[[0.06352395, 0.17397285, 0.10705582, 0.073170...</td>\n",
       "      <td>[4.0321784019470215, 3.8517632484436035, 3.576...</td>\n",
       "      <td>[0.2884094715118408, 0.26048868894577026, 0.33...</td>\n",
       "    </tr>\n",
       "    <tr>\n",
       "      <th>3</th>\n",
       "      <td>In what city and state did Beyonce  grow up?</td>\n",
       "      <td>166</td>\n",
       "      <td>Houston, Texas</td>\n",
       "      <td>[Beyoncé Giselle Knowles-Carter (/biːˈjɒnseɪ/ ...</td>\n",
       "      <td>1</td>\n",
       "      <td>[[0.082195975, 0.0778922, 0.016079443, 0.04441...</td>\n",
       "      <td>[[0.06352395, 0.17397285, 0.10705582, 0.073170...</td>\n",
       "      <td>[4.703168869018555, 4.480725288391113, 3.85302...</td>\n",
       "      <td>[0.42351508140563965, 0.3781578540802002, 0.41...</td>\n",
       "    </tr>\n",
       "    <tr>\n",
       "      <th>4</th>\n",
       "      <td>In which decade did Beyonce become famous?</td>\n",
       "      <td>276</td>\n",
       "      <td>late 1990s</td>\n",
       "      <td>[Beyoncé Giselle Knowles-Carter (/biːˈjɒnseɪ/ ...</td>\n",
       "      <td>1</td>\n",
       "      <td>[[0.10957716, 0.020397408, 0.061727244, 0.0263...</td>\n",
       "      <td>[[0.06352395, 0.17397285, 0.10705582, 0.073170...</td>\n",
       "      <td>[4.48006010055542, 4.477153301239014, 3.738474...</td>\n",
       "      <td>[0.37501227855682373, 0.3775840997695923, 0.38...</td>\n",
       "    </tr>\n",
       "    <tr>\n",
       "      <th>5</th>\n",
       "      <td>In what R&amp;B group was she the lead singer?</td>\n",
       "      <td>320</td>\n",
       "      <td>Destiny's Child</td>\n",
       "      <td>[Beyoncé Giselle Knowles-Carter (/biːˈjɒnseɪ/ ...</td>\n",
       "      <td>1</td>\n",
       "      <td>[[0.04265439, 0.11198192, 0.10183123, -0.00464...</td>\n",
       "      <td>[[0.06352395, 0.17397285, 0.10705582, 0.073170...</td>\n",
       "      <td>[4.228331565856934, 3.993987560272217, 3.33958...</td>\n",
       "      <td>[0.3236287236213684, 0.2818150520324707, 0.299...</td>\n",
       "    </tr>\n",
       "    <tr>\n",
       "      <th>6</th>\n",
       "      <td>What album made her a worldwide known artist?</td>\n",
       "      <td>505</td>\n",
       "      <td>Dangerously in Love</td>\n",
       "      <td>[Beyoncé Giselle Knowles-Carter (/biːˈjɒnseɪ/ ...</td>\n",
       "      <td>3</td>\n",
       "      <td>[[0.104184076, 0.06301832, 0.12119591, -0.0010...</td>\n",
       "      <td>[[0.06352395, 0.17397285, 0.10705582, 0.073170...</td>\n",
       "      <td>[4.465325832366943, 4.358132362365723, 3.45290...</td>\n",
       "      <td>[0.37130141258239746, 0.35230696201324463, 0.3...</td>\n",
       "    </tr>\n",
       "    <tr>\n",
       "      <th>7</th>\n",
       "      <td>Who managed the Destiny's Child group?</td>\n",
       "      <td>360</td>\n",
       "      <td>Mathew Knowles</td>\n",
       "      <td>[Beyoncé Giselle Knowles-Carter (/biːˈjɒnseɪ/ ...</td>\n",
       "      <td>2</td>\n",
       "      <td>[[0.06858502, 0.11684115, -0.030445112, -0.027...</td>\n",
       "      <td>[[0.06352395, 0.17397285, 0.10705582, 0.073170...</td>\n",
       "      <td>[4.858935832977295, 4.607327461242676, 3.53121...</td>\n",
       "      <td>[0.4661130905151367, 0.4072984457015991, 0.352...</td>\n",
       "    </tr>\n",
       "    <tr>\n",
       "      <th>8</th>\n",
       "      <td>When did Beyoncé rise to fame?</td>\n",
       "      <td>276</td>\n",
       "      <td>late 1990s</td>\n",
       "      <td>[Beyoncé Giselle Knowles-Carter (/biːˈjɒnseɪ/ ...</td>\n",
       "      <td>1</td>\n",
       "      <td>[[0.09504555, 0.01654029, 0.10866133, 0.017700...</td>\n",
       "      <td>[[0.06352395, 0.17397285, 0.10705582, 0.073170...</td>\n",
       "      <td>[4.888204574584961, 4.848261833190918, 4.16055...</td>\n",
       "      <td>[0.47260910272598267, 0.46645498275756836, 0.5...</td>\n",
       "    </tr>\n",
       "    <tr>\n",
       "      <th>9</th>\n",
       "      <td>What role did Beyoncé have in Destiny's Child?</td>\n",
       "      <td>290</td>\n",
       "      <td>lead singer</td>\n",
       "      <td>[Beyoncé Giselle Knowles-Carter (/biːˈjɒnseɪ/ ...</td>\n",
       "      <td>1</td>\n",
       "      <td>[[0.084585585, 0.12407758, 0.029805489, -0.005...</td>\n",
       "      <td>[[0.06352395, 0.17397285, 0.10705582, 0.073170...</td>\n",
       "      <td>[4.509896278381348, 4.38243293762207, 3.742840...</td>\n",
       "      <td>[0.38141047954559326, 0.3573759198188782, 0.38...</td>\n",
       "    </tr>\n",
       "  </tbody>\n",
       "</table>\n",
       "</div>"
      ],
      "text/plain": [
       "                                            question  answer_start  \\\n",
       "0           When did Beyonce start becoming popular?           269   \n",
       "1  What areas did Beyonce compete in when she was...           207   \n",
       "2  When did Beyonce leave Destiny's Child and bec...           526   \n",
       "3      In what city and state did Beyonce  grow up?            166   \n",
       "4         In which decade did Beyonce become famous?           276   \n",
       "5         In what R&B group was she the lead singer?           320   \n",
       "6      What album made her a worldwide known artist?           505   \n",
       "7             Who managed the Destiny's Child group?           360   \n",
       "8                     When did Beyoncé rise to fame?           276   \n",
       "9     What role did Beyoncé have in Destiny's Child?           290   \n",
       "\n",
       "                  text                                          sentences  \\\n",
       "0    in the late 1990s  [Beyoncé Giselle Knowles-Carter (/biːˈjɒnseɪ/ ...   \n",
       "1  singing and dancing  [Beyoncé Giselle Knowles-Carter (/biːˈjɒnseɪ/ ...   \n",
       "2                 2003  [Beyoncé Giselle Knowles-Carter (/biːˈjɒnseɪ/ ...   \n",
       "3       Houston, Texas  [Beyoncé Giselle Knowles-Carter (/biːˈjɒnseɪ/ ...   \n",
       "4           late 1990s  [Beyoncé Giselle Knowles-Carter (/biːˈjɒnseɪ/ ...   \n",
       "5      Destiny's Child  [Beyoncé Giselle Knowles-Carter (/biːˈjɒnseɪ/ ...   \n",
       "6  Dangerously in Love  [Beyoncé Giselle Knowles-Carter (/biːˈjɒnseɪ/ ...   \n",
       "7       Mathew Knowles  [Beyoncé Giselle Knowles-Carter (/biːˈjɒnseɪ/ ...   \n",
       "8           late 1990s  [Beyoncé Giselle Knowles-Carter (/biːˈjɒnseɪ/ ...   \n",
       "9          lead singer  [Beyoncé Giselle Knowles-Carter (/biːˈjɒnseɪ/ ...   \n",
       "\n",
       "   ans_sentence                                            que_emb  \\\n",
       "0             1  [[0.11226777, 0.054507274, 0.107090585, 0.0954...   \n",
       "1             1  [[0.12392643, 0.08186243, 0.05142356, -0.01727...   \n",
       "2             3  [[0.04034418, 0.12923701, 0.03330859, 0.022752...   \n",
       "3             1  [[0.082195975, 0.0778922, 0.016079443, 0.04441...   \n",
       "4             1  [[0.10957716, 0.020397408, 0.061727244, 0.0263...   \n",
       "5             1  [[0.04265439, 0.11198192, 0.10183123, -0.00464...   \n",
       "6             3  [[0.104184076, 0.06301832, 0.12119591, -0.0010...   \n",
       "7             2  [[0.06858502, 0.11684115, -0.030445112, -0.027...   \n",
       "8             1  [[0.09504555, 0.01654029, 0.10866133, 0.017700...   \n",
       "9             1  [[0.084585585, 0.12407758, 0.029805489, -0.005...   \n",
       "\n",
       "                                            sent_emb  \\\n",
       "0  [[0.06352395, 0.17397285, 0.10705582, 0.073170...   \n",
       "1  [[0.06352395, 0.17397285, 0.10705582, 0.073170...   \n",
       "2  [[0.06352395, 0.17397285, 0.10705582, 0.073170...   \n",
       "3  [[0.06352395, 0.17397285, 0.10705582, 0.073170...   \n",
       "4  [[0.06352395, 0.17397285, 0.10705582, 0.073170...   \n",
       "5  [[0.06352395, 0.17397285, 0.10705582, 0.073170...   \n",
       "6  [[0.06352395, 0.17397285, 0.10705582, 0.073170...   \n",
       "7  [[0.06352395, 0.17397285, 0.10705582, 0.073170...   \n",
       "8  [[0.06352395, 0.17397285, 0.10705582, 0.073170...   \n",
       "9  [[0.06352395, 0.17397285, 0.10705582, 0.073170...   \n",
       "\n",
       "                                            eucl_dis  \\\n",
       "0  [4.877357482910156, 4.7811198234558105, 3.9897...   \n",
       "1  [4.541980266571045, 4.213067531585693, 3.64840...   \n",
       "2  [4.0321784019470215, 3.8517632484436035, 3.576...   \n",
       "3  [4.703168869018555, 4.480725288391113, 3.85302...   \n",
       "4  [4.48006010055542, 4.477153301239014, 3.738474...   \n",
       "5  [4.228331565856934, 3.993987560272217, 3.33958...   \n",
       "6  [4.465325832366943, 4.358132362365723, 3.45290...   \n",
       "7  [4.858935832977295, 4.607327461242676, 3.53121...   \n",
       "8  [4.888204574584961, 4.848261833190918, 4.16055...   \n",
       "9  [4.509896278381348, 4.38243293762207, 3.742840...   \n",
       "\n",
       "                                          cosine_dis  \n",
       "0  [0.46874332427978516, 0.44890081882476807, 0.4...  \n",
       "1  [0.38697999715805054, 0.3235163688659668, 0.36...  \n",
       "2  [0.2884094715118408, 0.26048868894577026, 0.33...  \n",
       "3  [0.42351508140563965, 0.3781578540802002, 0.41...  \n",
       "4  [0.37501227855682373, 0.3775840997695923, 0.38...  \n",
       "5  [0.3236287236213684, 0.2818150520324707, 0.299...  \n",
       "6  [0.37130141258239746, 0.35230696201324463, 0.3...  \n",
       "7  [0.4661130905151367, 0.4072984457015991, 0.352...  \n",
       "8  [0.47260910272598267, 0.46645498275756836, 0.5...  \n",
       "9  [0.38141047954559326, 0.3573759198188782, 0.38...  "
      ]
     },
     "execution_count": 36,
     "metadata": {},
     "output_type": "execute_result"
    }
   ],
   "source": [
    "data.head(10)"
   ]
  },
  {
   "cell_type": "code",
   "execution_count": 38,
   "metadata": {},
   "outputs": [],
   "source": [
    "data.to_csv(\"data/processed.csv\", index=None)"
   ]
  }
 ],
 "metadata": {
  "kernelspec": {
   "display_name": "Python 3",
   "language": "python",
   "name": "python3"
  },
  "language_info": {
   "codemirror_mode": {
    "name": "ipython",
    "version": 3
   },
   "file_extension": ".py",
   "mimetype": "text/x-python",
   "name": "python",
   "nbconvert_exporter": "python",
   "pygments_lexer": "ipython3",
   "version": "3.7.6"
  }
 },
 "nbformat": 4,
 "nbformat_minor": 4
}
